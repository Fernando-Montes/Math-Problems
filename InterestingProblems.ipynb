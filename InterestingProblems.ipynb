{
 "cells": [
  {
   "cell_type": "markdown",
   "metadata": {},
   "source": [
    "<img src=\"./Figures/GeometryFindR.png\" width=\"700\">"
   ]
  },
  {
   "cell_type": "markdown",
   "metadata": {},
   "source": [
    "## Solution 1:\n",
    "\n",
    "By the law of cosine the length of the line $L$ connecting the points (0,1) and (R/$\\sqrt{2}$, R/$\\sqrt{2}$) is:\n",
    "\n",
    "$L^2 = 1 + 1 - 2 ~cos(135)$, and therefore\n",
    "\n",
    "$L = \\sqrt{2 + \\sqrt{2}}$\n",
    "\n",
    "By the law of cosine the length of the line $R$ connecting the points (0,0) and (R/$\\sqrt{2}$, R/$\\sqrt{2}$) is:\n",
    "\n",
    "$R^2 = 1 + L^2 - 2~L~cos(90+45/2)$, and therefore:"
   ]
  },
  {
   "cell_type": "code",
   "execution_count": 12,
   "metadata": {},
   "outputs": [
    {
     "name": "stdout",
     "output_type": "stream",
     "text": [
      "2.414213562373095\n"
     ]
    }
   ],
   "source": [
    "import math\n",
    "l = math.sqrt(2 + math.sqrt(2))\n",
    "r = math.sqrt( 1 + l**2 - 2*l*math.cos((90+45/2)*math.pi/180) )\n",
    "print(r)"
   ]
  },
  {
   "cell_type": "markdown",
   "metadata": {},
   "source": [
    "## Solution 2:\n",
    "The distance from (0,0) to the center of the circle is $\\sqrt{2}$. Therefore, \n",
    "$R = 1 + \\sqrt{2}$"
   ]
  },
  {
   "cell_type": "code",
   "execution_count": null,
   "metadata": {},
   "outputs": [],
   "source": []
  }
 ],
 "metadata": {
  "kernelspec": {
   "display_name": "Python 3",
   "language": "python",
   "name": "python3"
  },
  "language_info": {
   "codemirror_mode": {
    "name": "ipython",
    "version": 3
   },
   "file_extension": ".py",
   "mimetype": "text/x-python",
   "name": "python",
   "nbconvert_exporter": "python",
   "pygments_lexer": "ipython3",
   "version": "3.7.1"
  }
 },
 "nbformat": 4,
 "nbformat_minor": 4
}
