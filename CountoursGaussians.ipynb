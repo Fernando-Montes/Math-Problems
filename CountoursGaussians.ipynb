{
 "cells": [
  {
   "cell_type": "code",
   "execution_count": 34,
   "metadata": {},
   "outputs": [
    {
     "data": {
      "text/plain": [
       "0.682689492137086"
      ]
     },
     "execution_count": 34,
     "metadata": {},
     "output_type": "execute_result"
    }
   ],
   "source": [
    "# Gaussian integration 1D\n",
    "import numpy as np\n",
    "import scipy.integrate as integrate\n",
    "\n",
    "def gauss1d(x, mu, sigma):\n",
    "    return 1/(sigma*np.sqrt(2*np.pi))*np.exp(-(x-mu)**2/(2.*sigma**2))\n",
    "\n",
    "limit1 = -1\n",
    "limit2 = -limit1\n",
    "integrate.quad( lambda x: gauss1d(x, 0, 1), limit1, limit2 )[0]"
   ]
  },
  {
   "cell_type": "code",
   "execution_count": 50,
   "metadata": {},
   "outputs": [
    {
     "data": {
      "text/plain": [
       "0.9738785901460468"
      ]
     },
     "execution_count": 50,
     "metadata": {},
     "output_type": "execute_result"
    }
   ],
   "source": [
    "# Gaussian integration 2D\n",
    "import numpy as np\n",
    "import scipy.integrate as integrate\n",
    "\n",
    "def gauss2d(x, y, mux, muy, sigmax, sigmay):\n",
    "    return 1/(2*np.pi*sigmax*sigmay)*np.exp( -(x-mux)**2/(2.*sigmax**2) -(y-muy)**2/(2.*sigmay**2) )\n",
    "\n",
    "sigmax = 1.5/2.7\n",
    "sigmay = 1.8/2.7\n",
    "\n",
    "limit1x = -2.7 # in sigmax units\n",
    "limit2x = -limit1x\n",
    "limit1y = 2.7 # in sigmay units\n",
    "integrate.dblquad( lambda y, x: gauss2d(x, y, 0, 0, sigmax, sigmay), limit1x*sigmax, limit2x*sigmax, lambda x: -sigmay*limit1y*np.sqrt(1-(x/(sigmax*limit1x))**2), lambda x: sigmay*limit1y*np.sqrt(1-(x/(sigmax*limit1x))**2) )[0]"
   ]
  },
  {
   "cell_type": "code",
   "execution_count": 51,
   "metadata": {},
   "outputs": [
    {
     "data": {
      "text/plain": [
       "13.676935216182603"
      ]
     },
     "execution_count": 51,
     "metadata": {},
     "output_type": "execute_result"
    }
   ],
   "source": [
    "cutAngle = 0.05\n",
    "0.974/integrate.dblquad( lambda y, x: gauss2d(x, y, 0, 0, sigmax, sigmay), -cutAngle, cutAngle, lambda x: -sigmay*limit1y*np.sqrt(1-(x/(sigmax*limit1x))**2), lambda x: sigmay*limit1y*np.sqrt(1-(x/(sigmax*limit1x))**2) )[0]"
   ]
  },
  {
   "cell_type": "code",
   "execution_count": null,
   "metadata": {},
   "outputs": [],
   "source": []
  }
 ],
 "metadata": {
  "kernelspec": {
   "display_name": "Python 3 (ipykernel)",
   "language": "python",
   "name": "python3"
  },
  "language_info": {
   "codemirror_mode": {
    "name": "ipython",
    "version": 3
   },
   "file_extension": ".py",
   "mimetype": "text/x-python",
   "name": "python",
   "nbconvert_exporter": "python",
   "pygments_lexer": "ipython3",
   "version": "3.7.7"
  }
 },
 "nbformat": 4,
 "nbformat_minor": 4
}
